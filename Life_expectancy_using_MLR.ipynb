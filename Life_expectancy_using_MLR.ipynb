{
  "nbformat": 4,
  "nbformat_minor": 0,
  "metadata": {
    "colab": {
      "name": "Life expectancy using MLR.ipynb",
      "provenance": []
    },
    "kernelspec": {
      "name": "python3",
      "display_name": "Python 3"
    }
  },
  "cells": [
    {
      "cell_type": "code",
      "metadata": {
        "id": "PiMvvLFnDmL5",
        "colab_type": "code",
        "colab": {}
      },
      "source": [
        "import pandas as pd\n",
        "import numpy as np\n",
        "from sklearn.preprocessing import LabelEncoder,OneHotEncoder\n",
        "from sklearn.linear_model import LinearRegression\n",
        "from sklearn.model_selection import train_test_split\n",
        "from sklearn.metrics import r2_score\n",
        "import statsmodels.regression.linear_model as sm"
      ],
      "execution_count": null,
      "outputs": []
    },
    {
      "cell_type": "code",
      "metadata": {
        "id": "XNWnMog8F5YZ",
        "colab_type": "code",
        "colab": {
          "base_uri": "https://localhost:8080/",
          "height": 278
        },
        "outputId": "05295b7e-3f87-4de5-dbfd-8841fd6e7c23"
      },
      "source": [
        "df=pd.read_csv('dataset.csv')\n",
        "df.head()"
      ],
      "execution_count": null,
      "outputs": [
        {
          "output_type": "execute_result",
          "data": {
            "text/html": [
              "<div>\n",
              "<style scoped>\n",
              "    .dataframe tbody tr th:only-of-type {\n",
              "        vertical-align: middle;\n",
              "    }\n",
              "\n",
              "    .dataframe tbody tr th {\n",
              "        vertical-align: top;\n",
              "    }\n",
              "\n",
              "    .dataframe thead th {\n",
              "        text-align: right;\n",
              "    }\n",
              "</style>\n",
              "<table border=\"1\" class=\"dataframe\">\n",
              "  <thead>\n",
              "    <tr style=\"text-align: right;\">\n",
              "      <th></th>\n",
              "      <th>Country</th>\n",
              "      <th>Year</th>\n",
              "      <th>Status</th>\n",
              "      <th>Life expectancy</th>\n",
              "      <th>Adult Mortality</th>\n",
              "      <th>infant deaths</th>\n",
              "      <th>Alcohol</th>\n",
              "      <th>percentage expenditure</th>\n",
              "      <th>Hepatitis B</th>\n",
              "      <th>Measles</th>\n",
              "      <th>BMI</th>\n",
              "      <th>under-five deaths</th>\n",
              "      <th>Polio</th>\n",
              "      <th>Total expenditure</th>\n",
              "      <th>Diphtheria</th>\n",
              "      <th>HIV/AIDS</th>\n",
              "      <th>GDP</th>\n",
              "      <th>Population</th>\n",
              "      <th>thinness  1-19 years</th>\n",
              "      <th>thinness 5-9 years</th>\n",
              "      <th>Income composition of resources</th>\n",
              "      <th>Schooling</th>\n",
              "    </tr>\n",
              "  </thead>\n",
              "  <tbody>\n",
              "    <tr>\n",
              "      <th>0</th>\n",
              "      <td>Afghanistan</td>\n",
              "      <td>2015</td>\n",
              "      <td>Developing</td>\n",
              "      <td>65.0</td>\n",
              "      <td>263.0</td>\n",
              "      <td>62</td>\n",
              "      <td>0.01</td>\n",
              "      <td>71.279624</td>\n",
              "      <td>65.0</td>\n",
              "      <td>1154</td>\n",
              "      <td>19.1</td>\n",
              "      <td>83</td>\n",
              "      <td>6.0</td>\n",
              "      <td>8.16</td>\n",
              "      <td>65.0</td>\n",
              "      <td>0.1</td>\n",
              "      <td>584.259210</td>\n",
              "      <td>33736494.0</td>\n",
              "      <td>17.2</td>\n",
              "      <td>17.3</td>\n",
              "      <td>0.479</td>\n",
              "      <td>10.1</td>\n",
              "    </tr>\n",
              "    <tr>\n",
              "      <th>1</th>\n",
              "      <td>Afghanistan</td>\n",
              "      <td>2014</td>\n",
              "      <td>Developing</td>\n",
              "      <td>59.9</td>\n",
              "      <td>271.0</td>\n",
              "      <td>64</td>\n",
              "      <td>0.01</td>\n",
              "      <td>73.523582</td>\n",
              "      <td>62.0</td>\n",
              "      <td>492</td>\n",
              "      <td>18.6</td>\n",
              "      <td>86</td>\n",
              "      <td>58.0</td>\n",
              "      <td>8.18</td>\n",
              "      <td>62.0</td>\n",
              "      <td>0.1</td>\n",
              "      <td>612.696514</td>\n",
              "      <td>327582.0</td>\n",
              "      <td>17.5</td>\n",
              "      <td>17.5</td>\n",
              "      <td>0.476</td>\n",
              "      <td>10.0</td>\n",
              "    </tr>\n",
              "    <tr>\n",
              "      <th>2</th>\n",
              "      <td>Afghanistan</td>\n",
              "      <td>2013</td>\n",
              "      <td>Developing</td>\n",
              "      <td>59.9</td>\n",
              "      <td>268.0</td>\n",
              "      <td>66</td>\n",
              "      <td>0.01</td>\n",
              "      <td>73.219243</td>\n",
              "      <td>64.0</td>\n",
              "      <td>430</td>\n",
              "      <td>18.1</td>\n",
              "      <td>89</td>\n",
              "      <td>62.0</td>\n",
              "      <td>8.13</td>\n",
              "      <td>64.0</td>\n",
              "      <td>0.1</td>\n",
              "      <td>631.744976</td>\n",
              "      <td>31731688.0</td>\n",
              "      <td>17.7</td>\n",
              "      <td>17.7</td>\n",
              "      <td>0.470</td>\n",
              "      <td>9.9</td>\n",
              "    </tr>\n",
              "    <tr>\n",
              "      <th>3</th>\n",
              "      <td>Afghanistan</td>\n",
              "      <td>2012</td>\n",
              "      <td>Developing</td>\n",
              "      <td>59.5</td>\n",
              "      <td>272.0</td>\n",
              "      <td>69</td>\n",
              "      <td>0.01</td>\n",
              "      <td>78.184215</td>\n",
              "      <td>67.0</td>\n",
              "      <td>2787</td>\n",
              "      <td>17.6</td>\n",
              "      <td>93</td>\n",
              "      <td>67.0</td>\n",
              "      <td>8.52</td>\n",
              "      <td>67.0</td>\n",
              "      <td>0.1</td>\n",
              "      <td>669.959000</td>\n",
              "      <td>3696958.0</td>\n",
              "      <td>17.9</td>\n",
              "      <td>18.0</td>\n",
              "      <td>0.463</td>\n",
              "      <td>9.8</td>\n",
              "    </tr>\n",
              "    <tr>\n",
              "      <th>4</th>\n",
              "      <td>Afghanistan</td>\n",
              "      <td>2011</td>\n",
              "      <td>Developing</td>\n",
              "      <td>59.2</td>\n",
              "      <td>275.0</td>\n",
              "      <td>71</td>\n",
              "      <td>0.01</td>\n",
              "      <td>7.097109</td>\n",
              "      <td>68.0</td>\n",
              "      <td>3013</td>\n",
              "      <td>17.2</td>\n",
              "      <td>97</td>\n",
              "      <td>68.0</td>\n",
              "      <td>7.87</td>\n",
              "      <td>68.0</td>\n",
              "      <td>0.1</td>\n",
              "      <td>63.537231</td>\n",
              "      <td>2978599.0</td>\n",
              "      <td>18.2</td>\n",
              "      <td>18.2</td>\n",
              "      <td>0.454</td>\n",
              "      <td>9.5</td>\n",
              "    </tr>\n",
              "  </tbody>\n",
              "</table>\n",
              "</div>"
            ],
            "text/plain": [
              "       Country  Year  ... Income composition of resources  Schooling\n",
              "0  Afghanistan  2015  ...                           0.479       10.1\n",
              "1  Afghanistan  2014  ...                           0.476       10.0\n",
              "2  Afghanistan  2013  ...                           0.470        9.9\n",
              "3  Afghanistan  2012  ...                           0.463        9.8\n",
              "4  Afghanistan  2011  ...                           0.454        9.5\n",
              "\n",
              "[5 rows x 22 columns]"
            ]
          },
          "metadata": {
            "tags": []
          },
          "execution_count": 5
        }
      ]
    },
    {
      "cell_type": "code",
      "metadata": {
        "id": "9aL81_khpijA",
        "colab_type": "code",
        "colab": {}
      },
      "source": [
        "df.replace([np.inf, -np.inf], np.NaN,inplace=True)"
      ],
      "execution_count": null,
      "outputs": []
    },
    {
      "cell_type": "code",
      "metadata": {
        "id": "_whtkFuPGBzG",
        "colab_type": "code",
        "colab": {}
      },
      "source": [
        "real_x=df.iloc[:,[0,1,2,4,5,6,7,8,9,10,11,12,13,14,15,16,17,18,19,20,21]]"
      ],
      "execution_count": null,
      "outputs": []
    },
    {
      "cell_type": "code",
      "metadata": {
        "id": "6nnsAz09THP_",
        "colab_type": "code",
        "colab": {
          "base_uri": "https://localhost:8080/",
          "height": 35
        },
        "outputId": "a9031513-0566-476d-810f-45091f3c47f7"
      },
      "source": [
        "temp_x=real_x.dropna(axis=0,how='any')\n",
        "temp_x=temp_x.to_numpy()\n",
        "real_x.columns=[0,1,2,3,4,5,6,7,8,9,10,11,12,13,14,15,16,17,18,19,20]\n",
        "len(real_x)"
      ],
      "execution_count": null,
      "outputs": [
        {
          "output_type": "execute_result",
          "data": {
            "text/plain": [
              "2938"
            ]
          },
          "metadata": {
            "tags": []
          },
          "execution_count": 8
        }
      ]
    },
    {
      "cell_type": "code",
      "metadata": {
        "id": "ZAtIq2PRPxW8",
        "colab_type": "code",
        "colab": {}
      },
      "source": [
        "for i in range(3,21):\n",
        "  average=0\n",
        "  sum=0\n",
        "  for j in range(0,len(temp_x)):\n",
        "    sum=sum+temp_x[j,i]\n",
        "    if sum=='NaN':\n",
        "      print(\"yes\")\n",
        "  average=sum/len(temp_x)\n",
        "  real_x[i].fillna(value=average,inplace=True)"
      ],
      "execution_count": null,
      "outputs": []
    },
    {
      "cell_type": "code",
      "metadata": {
        "id": "sQkICviSY1Ip",
        "colab_type": "code",
        "colab": {
          "base_uri": "https://localhost:8080/",
          "height": 35
        },
        "outputId": "46d0537d-4950-4c56-b308-ec6d68ad96e9"
      },
      "source": [
        "real_x.isnull().values.any()"
      ],
      "execution_count": null,
      "outputs": [
        {
          "output_type": "execute_result",
          "data": {
            "text/plain": [
              "False"
            ]
          },
          "metadata": {
            "tags": []
          },
          "execution_count": 10
        }
      ]
    },
    {
      "cell_type": "code",
      "metadata": {
        "id": "j2LVyS0HHNNt",
        "colab_type": "code",
        "colab": {}
      },
      "source": [
        "real_x=real_x.to_numpy()"
      ],
      "execution_count": null,
      "outputs": []
    },
    {
      "cell_type": "code",
      "metadata": {
        "id": "XF76YCbHLqxC",
        "colab_type": "code",
        "colab": {}
      },
      "source": [
        "real_y=df.iloc[:,[3]]"
      ],
      "execution_count": null,
      "outputs": []
    },
    {
      "cell_type": "code",
      "metadata": {
        "id": "Ze-iapLakJAs",
        "colab_type": "code",
        "colab": {}
      },
      "source": [
        "real_y.fillna(value=real_y.mean(),inplace=True)"
      ],
      "execution_count": null,
      "outputs": []
    },
    {
      "cell_type": "code",
      "metadata": {
        "id": "zGVjqRZKkjdM",
        "colab_type": "code",
        "colab": {
          "base_uri": "https://localhost:8080/",
          "height": 35
        },
        "outputId": "f5f9efaf-91e5-4494-b2f1-c1e5193bbb7e"
      },
      "source": [
        "real_y.isnull().values.any()"
      ],
      "execution_count": null,
      "outputs": [
        {
          "output_type": "execute_result",
          "data": {
            "text/plain": [
              "False"
            ]
          },
          "metadata": {
            "tags": []
          },
          "execution_count": 25
        }
      ]
    },
    {
      "cell_type": "code",
      "metadata": {
        "id": "yhJG26LkL_PP",
        "colab_type": "code",
        "colab": {}
      },
      "source": [
        "le=LabelEncoder()\n",
        "real_x[:,0]=le.fit_transform(real_x[:,0])"
      ],
      "execution_count": null,
      "outputs": []
    },
    {
      "cell_type": "code",
      "metadata": {
        "id": "DFqHn5pkNRXA",
        "colab_type": "code",
        "colab": {}
      },
      "source": [
        "real_x[:,2]=le.fit_transform(real_x[:,2])"
      ],
      "execution_count": null,
      "outputs": []
    },
    {
      "cell_type": "code",
      "metadata": {
        "id": "kCSD_Y4agT2q",
        "colab_type": "code",
        "colab": {}
      },
      "source": [
        "real_x=np.append(np.ones((len(real_x),1)).astype(int),values=real_x,axis=1)"
      ],
      "execution_count": null,
      "outputs": []
    },
    {
      "cell_type": "code",
      "metadata": {
        "id": "1Awf2Fx_N95E",
        "colab_type": "code",
        "colab": {}
      },
      "source": [
        "training_x,testing_x,training_y,testing_y=train_test_split(real_x,real_y,test_size=0.3,random_state=0)"
      ],
      "execution_count": null,
      "outputs": []
    },
    {
      "cell_type": "code",
      "metadata": {
        "id": "AXySaicBObKR",
        "colab_type": "code",
        "colab": {}
      },
      "source": [
        "regressor=LinearRegression()"
      ],
      "execution_count": null,
      "outputs": []
    },
    {
      "cell_type": "code",
      "metadata": {
        "id": "4KELj6IGOgN5",
        "colab_type": "code",
        "colab": {
          "base_uri": "https://localhost:8080/",
          "height": 35
        },
        "outputId": "6d64603c-cee8-429b-d860-d78b73e7f31d"
      },
      "source": [
        "regressor.fit(training_x,training_y)"
      ],
      "execution_count": null,
      "outputs": [
        {
          "output_type": "execute_result",
          "data": {
            "text/plain": [
              "LinearRegression(copy_X=True, fit_intercept=True, n_jobs=None, normalize=False)"
            ]
          },
          "metadata": {
            "tags": []
          },
          "execution_count": 34
        }
      ]
    },
    {
      "cell_type": "code",
      "metadata": {
        "id": "npmp_ZJDOkX5",
        "colab_type": "code",
        "colab": {}
      },
      "source": [
        "pred_y=regressor.predict(testing_x)"
      ],
      "execution_count": null,
      "outputs": []
    },
    {
      "cell_type": "code",
      "metadata": {
        "id": "u5n9d4uMlpVP",
        "colab_type": "code",
        "colab": {
          "base_uri": "https://localhost:8080/",
          "height": 35
        },
        "outputId": "a80207a5-1a71-4975-94c8-f9ed4f81abb8"
      },
      "source": [
        "score=r2_score(testing_y,pred_y)\n",
        "score"
      ],
      "execution_count": null,
      "outputs": [
        {
          "output_type": "execute_result",
          "data": {
            "text/plain": [
              "0.8200019275714024"
            ]
          },
          "metadata": {
            "tags": []
          },
          "execution_count": 37
        }
      ]
    },
    {
      "cell_type": "code",
      "metadata": {
        "id": "AmfcKD-Wl6Tq",
        "colab_type": "code",
        "colab": {
          "base_uri": "https://localhost:8080/",
          "height": 35
        },
        "outputId": "f7fe1c9b-f2ab-46d4-9aa7-d7097352585c"
      },
      "source": [
        "len(real_x[0])"
      ],
      "execution_count": null,
      "outputs": [
        {
          "output_type": "execute_result",
          "data": {
            "text/plain": [
              "23"
            ]
          },
          "metadata": {
            "tags": []
          },
          "execution_count": 39
        }
      ]
    },
    {
      "cell_type": "code",
      "metadata": {
        "id": "bVqivKUXmPd3",
        "colab_type": "code",
        "colab": {}
      },
      "source": [
        "x_opt=real_x[:,[0,1,2,4,5,6,7,9,10,11,12,13,15,16,17,19,21,22]].astype('float64')"
      ],
      "execution_count": null,
      "outputs": []
    },
    {
      "cell_type": "code",
      "metadata": {
        "id": "8oDIhRLKmdbV",
        "colab_type": "code",
        "colab": {}
      },
      "source": [
        "regressor_ols=sm.OLS(endog=real_y,exog=x_opt).fit()"
      ],
      "execution_count": null,
      "outputs": []
    },
    {
      "cell_type": "code",
      "metadata": {
        "id": "wVCGKXVkmpL0",
        "colab_type": "code",
        "colab": {
          "base_uri": "https://localhost:8080/",
          "height": 828
        },
        "outputId": "9a5634d2-fe13-491b-b680-f3bf93d1579f"
      },
      "source": [
        "regressor_ols.summary()"
      ],
      "execution_count": null,
      "outputs": [
        {
          "output_type": "execute_result",
          "data": {
            "text/html": [
              "<table class=\"simpletable\">\n",
              "<caption>OLS Regression Results</caption>\n",
              "<tr>\n",
              "  <th>Dep. Variable:</th>    <td>Life expectancy </td> <th>  R-squared:         </th> <td>   0.820</td> \n",
              "</tr>\n",
              "<tr>\n",
              "  <th>Model:</th>                   <td>OLS</td>       <th>  Adj. R-squared:    </th> <td>   0.819</td> \n",
              "</tr>\n",
              "<tr>\n",
              "  <th>Method:</th>             <td>Least Squares</td>  <th>  F-statistic:       </th> <td>   832.2</td> \n",
              "</tr>\n",
              "<tr>\n",
              "  <th>Date:</th>             <td>Thu, 06 Aug 2020</td> <th>  Prob (F-statistic):</th>  <td>  0.00</td>  \n",
              "</tr>\n",
              "<tr>\n",
              "  <th>Time:</th>                 <td>11:52:31</td>     <th>  Log-Likelihood:    </th> <td> -8265.2</td> \n",
              "</tr>\n",
              "<tr>\n",
              "  <th>No. Observations:</th>      <td>  2938</td>      <th>  AIC:               </th> <td>1.656e+04</td>\n",
              "</tr>\n",
              "<tr>\n",
              "  <th>Df Residuals:</th>          <td>  2921</td>      <th>  BIC:               </th> <td>1.667e+04</td>\n",
              "</tr>\n",
              "<tr>\n",
              "  <th>Df Model:</th>              <td>    16</td>      <th>                     </th>     <td> </td>    \n",
              "</tr>\n",
              "<tr>\n",
              "  <th>Covariance Type:</th>      <td>nonrobust</td>    <th>                     </th>     <td> </td>    \n",
              "</tr>\n",
              "</table>\n",
              "<table class=\"simpletable\">\n",
              "<tr>\n",
              "    <td></td>       <th>coef</th>     <th>std err</th>      <th>t</th>      <th>P>|t|</th>  <th>[0.025</th>    <th>0.975]</th>  \n",
              "</tr>\n",
              "<tr>\n",
              "  <th>const</th> <td>   28.2351</td> <td>    0.319</td> <td>   88.400</td> <td> 0.000</td> <td>   27.609</td> <td>   28.861</td>\n",
              "</tr>\n",
              "<tr>\n",
              "  <th>x1</th>    <td>   28.2351</td> <td>    0.319</td> <td>   88.400</td> <td> 0.000</td> <td>   27.609</td> <td>   28.861</td>\n",
              "</tr>\n",
              "<tr>\n",
              "  <th>x2</th>    <td>    0.0046</td> <td>    0.001</td> <td>    3.428</td> <td> 0.001</td> <td>    0.002</td> <td>    0.007</td>\n",
              "</tr>\n",
              "<tr>\n",
              "  <th>x3</th>    <td>   -1.5876</td> <td>    0.267</td> <td>   -5.957</td> <td> 0.000</td> <td>   -2.110</td> <td>   -1.065</td>\n",
              "</tr>\n",
              "<tr>\n",
              "  <th>x4</th>    <td>   -0.0199</td> <td>    0.001</td> <td>  -25.162</td> <td> 0.000</td> <td>   -0.021</td> <td>   -0.018</td>\n",
              "</tr>\n",
              "<tr>\n",
              "  <th>x5</th>    <td>    0.1022</td> <td>    0.008</td> <td>   12.351</td> <td> 0.000</td> <td>    0.086</td> <td>    0.118</td>\n",
              "</tr>\n",
              "<tr>\n",
              "  <th>x6</th>    <td>    0.0805</td> <td>    0.026</td> <td>    3.130</td> <td> 0.002</td> <td>    0.030</td> <td>    0.131</td>\n",
              "</tr>\n",
              "<tr>\n",
              "  <th>x7</th>    <td>   -0.0146</td> <td>    0.004</td> <td>   -3.736</td> <td> 0.000</td> <td>   -0.022</td> <td>   -0.007</td>\n",
              "</tr>\n",
              "<tr>\n",
              "  <th>x8</th>    <td>-2.004e-05</td> <td> 7.62e-06</td> <td>   -2.630</td> <td> 0.009</td> <td> -3.5e-05</td> <td> -5.1e-06</td>\n",
              "</tr>\n",
              "<tr>\n",
              "  <th>x9</th>    <td>    0.0442</td> <td>    0.005</td> <td>    9.077</td> <td> 0.000</td> <td>    0.035</td> <td>    0.054</td>\n",
              "</tr>\n",
              "<tr>\n",
              "  <th>x10</th>   <td>   -0.0764</td> <td>    0.006</td> <td>  -12.489</td> <td> 0.000</td> <td>   -0.088</td> <td>   -0.064</td>\n",
              "</tr>\n",
              "<tr>\n",
              "  <th>x11</th>   <td>    0.0279</td> <td>    0.004</td> <td>    6.245</td> <td> 0.000</td> <td>    0.019</td> <td>    0.037</td>\n",
              "</tr>\n",
              "<tr>\n",
              "  <th>x12</th>   <td>    0.0407</td> <td>    0.005</td> <td>    8.683</td> <td> 0.000</td> <td>    0.032</td> <td>    0.050</td>\n",
              "</tr>\n",
              "<tr>\n",
              "  <th>x13</th>   <td>   -0.4723</td> <td>    0.018</td> <td>  -26.950</td> <td> 0.000</td> <td>   -0.507</td> <td>   -0.438</td>\n",
              "</tr>\n",
              "<tr>\n",
              "  <th>x14</th>   <td> 4.568e-05</td> <td>  6.7e-06</td> <td>    6.820</td> <td> 0.000</td> <td> 3.25e-05</td> <td> 5.88e-05</td>\n",
              "</tr>\n",
              "<tr>\n",
              "  <th>x15</th>   <td>   -0.0806</td> <td>    0.024</td> <td>   -3.390</td> <td> 0.001</td> <td>   -0.127</td> <td>   -0.034</td>\n",
              "</tr>\n",
              "<tr>\n",
              "  <th>x16</th>   <td>    5.5938</td> <td>    0.631</td> <td>    8.867</td> <td> 0.000</td> <td>    4.357</td> <td>    6.831</td>\n",
              "</tr>\n",
              "<tr>\n",
              "  <th>x17</th>   <td>    0.6588</td> <td>    0.042</td> <td>   15.828</td> <td> 0.000</td> <td>    0.577</td> <td>    0.740</td>\n",
              "</tr>\n",
              "</table>\n",
              "<table class=\"simpletable\">\n",
              "<tr>\n",
              "  <th>Omnibus:</th>       <td>134.517</td> <th>  Durbin-Watson:     </th> <td>   0.700</td>\n",
              "</tr>\n",
              "<tr>\n",
              "  <th>Prob(Omnibus):</th> <td> 0.000</td>  <th>  Jarque-Bera (JB):  </th> <td> 393.313</td>\n",
              "</tr>\n",
              "<tr>\n",
              "  <th>Skew:</th>          <td>-0.171</td>  <th>  Prob(JB):          </th> <td>3.92e-86</td>\n",
              "</tr>\n",
              "<tr>\n",
              "  <th>Kurtosis:</th>      <td> 4.759</td>  <th>  Cond. No.          </th> <td>3.74e+17</td>\n",
              "</tr>\n",
              "</table><br/><br/>Warnings:<br/>[1] Standard Errors assume that the covariance matrix of the errors is correctly specified.<br/>[2] The smallest eigenvalue is 4.72e-24. This might indicate that there are<br/>strong multicollinearity problems or that the design matrix is singular."
            ],
            "text/plain": [
              "<class 'statsmodels.iolib.summary.Summary'>\n",
              "\"\"\"\n",
              "                            OLS Regression Results                            \n",
              "==============================================================================\n",
              "Dep. Variable:       Life expectancy    R-squared:                       0.820\n",
              "Model:                            OLS   Adj. R-squared:                  0.819\n",
              "Method:                 Least Squares   F-statistic:                     832.2\n",
              "Date:                Thu, 06 Aug 2020   Prob (F-statistic):               0.00\n",
              "Time:                        11:52:31   Log-Likelihood:                -8265.2\n",
              "No. Observations:                2938   AIC:                         1.656e+04\n",
              "Df Residuals:                    2921   BIC:                         1.667e+04\n",
              "Df Model:                          16                                         \n",
              "Covariance Type:            nonrobust                                         \n",
              "==============================================================================\n",
              "                 coef    std err          t      P>|t|      [0.025      0.975]\n",
              "------------------------------------------------------------------------------\n",
              "const         28.2351      0.319     88.400      0.000      27.609      28.861\n",
              "x1            28.2351      0.319     88.400      0.000      27.609      28.861\n",
              "x2             0.0046      0.001      3.428      0.001       0.002       0.007\n",
              "x3            -1.5876      0.267     -5.957      0.000      -2.110      -1.065\n",
              "x4            -0.0199      0.001    -25.162      0.000      -0.021      -0.018\n",
              "x5             0.1022      0.008     12.351      0.000       0.086       0.118\n",
              "x6             0.0805      0.026      3.130      0.002       0.030       0.131\n",
              "x7            -0.0146      0.004     -3.736      0.000      -0.022      -0.007\n",
              "x8         -2.004e-05   7.62e-06     -2.630      0.009    -3.5e-05    -5.1e-06\n",
              "x9             0.0442      0.005      9.077      0.000       0.035       0.054\n",
              "x10           -0.0764      0.006    -12.489      0.000      -0.088      -0.064\n",
              "x11            0.0279      0.004      6.245      0.000       0.019       0.037\n",
              "x12            0.0407      0.005      8.683      0.000       0.032       0.050\n",
              "x13           -0.4723      0.018    -26.950      0.000      -0.507      -0.438\n",
              "x14         4.568e-05    6.7e-06      6.820      0.000    3.25e-05    5.88e-05\n",
              "x15           -0.0806      0.024     -3.390      0.001      -0.127      -0.034\n",
              "x16            5.5938      0.631      8.867      0.000       4.357       6.831\n",
              "x17            0.6588      0.042     15.828      0.000       0.577       0.740\n",
              "==============================================================================\n",
              "Omnibus:                      134.517   Durbin-Watson:                   0.700\n",
              "Prob(Omnibus):                  0.000   Jarque-Bera (JB):              393.313\n",
              "Skew:                          -0.171   Prob(JB):                     3.92e-86\n",
              "Kurtosis:                       4.759   Cond. No.                     3.74e+17\n",
              "==============================================================================\n",
              "\n",
              "Warnings:\n",
              "[1] Standard Errors assume that the covariance matrix of the errors is correctly specified.\n",
              "[2] The smallest eigenvalue is 4.72e-24. This might indicate that there are\n",
              "strong multicollinearity problems or that the design matrix is singular.\n",
              "\"\"\""
            ]
          },
          "metadata": {
            "tags": []
          },
          "execution_count": 60
        }
      ]
    },
    {
      "cell_type": "code",
      "metadata": {
        "id": "Z_v5oK23nakm",
        "colab_type": "code",
        "colab": {}
      },
      "source": [
        "regressor_two=LinearRegression()"
      ],
      "execution_count": null,
      "outputs": []
    },
    {
      "cell_type": "code",
      "metadata": {
        "id": "awpXOD3nng7I",
        "colab_type": "code",
        "colab": {}
      },
      "source": [
        "training_x,testing_x,training_y,testing_y=train_test_split(x_opt,real_y,test_size=0.3,random_state=0)"
      ],
      "execution_count": null,
      "outputs": []
    },
    {
      "cell_type": "code",
      "metadata": {
        "id": "iFccHLGqnsih",
        "colab_type": "code",
        "colab": {
          "base_uri": "https://localhost:8080/",
          "height": 35
        },
        "outputId": "dbc601fd-6f80-4307-c27d-5c4d05dafdc2"
      },
      "source": [
        "regressor_two.fit(training_x,training_y)"
      ],
      "execution_count": null,
      "outputs": [
        {
          "output_type": "execute_result",
          "data": {
            "text/plain": [
              "LinearRegression(copy_X=True, fit_intercept=True, n_jobs=None, normalize=False)"
            ]
          },
          "metadata": {
            "tags": []
          },
          "execution_count": 63
        }
      ]
    },
    {
      "cell_type": "code",
      "metadata": {
        "id": "WJJVHKFFnwxB",
        "colab_type": "code",
        "colab": {}
      },
      "source": [
        "pred_y=regressor_two.predict(testing_x)"
      ],
      "execution_count": null,
      "outputs": []
    },
    {
      "cell_type": "code",
      "metadata": {
        "id": "fdaRDCWvn1EE",
        "colab_type": "code",
        "colab": {
          "base_uri": "https://localhost:8080/",
          "height": 35
        },
        "outputId": "f026f6bb-bcef-47d7-f6a7-87146ea9cec3"
      },
      "source": [
        "score=r2_score(testing_y,pred_y)\n",
        "score"
      ],
      "execution_count": null,
      "outputs": [
        {
          "output_type": "execute_result",
          "data": {
            "text/plain": [
              "0.8216146850109717"
            ]
          },
          "metadata": {
            "tags": []
          },
          "execution_count": 65
        }
      ]
    }
  ]
}